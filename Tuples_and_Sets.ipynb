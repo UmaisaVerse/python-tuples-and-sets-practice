{
  "nbformat": 4,
  "nbformat_minor": 0,
  "metadata": {
    "colab": {
      "provenance": []
    },
    "kernelspec": {
      "name": "python3",
      "display_name": "Python 3"
    },
    "language_info": {
      "name": "python"
    }
  },
  "cells": [
    {
      "cell_type": "markdown",
      "source": [
        "# **Tuples**\n",
        "\n",
        "1. Create a tuple called `person` with the following elements:  \n",
        "   - `\"Alex\"` (name)  \n",
        "   - `30` (age)  \n",
        "   - `\"Engineer\"` (profession)  \n",
        "   - `True` (is_employed)  \n",
        "\n",
        "2. Print the `name` and `profession` from the tuple.  \n",
        "\n",
        "3. Create a tuple called `numbers` with values `(10, 20, 30, 40, 50)`.  \n",
        "   - Print the first element and the last element using indexing.  \n",
        "\n",
        "\n"
      ],
      "metadata": {
        "id": "11BuhIopL-uT"
      }
    },
    {
      "cell_type": "code",
      "source": [
        "# 1\n",
        "person = (\"Alex\", 30, \"Engineer\", True)\n",
        "\n",
        "# 2\n",
        "print(\"Name:\", person[0])\n",
        "print(\"Profession:\", person[2])\n",
        "\n",
        "# 3\n",
        "numbers = (10, 20, 30, 40, 50)\n",
        "\n",
        "# 3(A)\n",
        "print(\"First element:\", numbers[0])\n",
        "print(\"Last element:\", numbers[-1])"
      ],
      "metadata": {
        "colab": {
          "base_uri": "https://localhost:8080/"
        },
        "id": "FW6IXljvYMW8",
        "outputId": "395b99d1-5a29-4352-caac-6e2b04c4c290"
      },
      "execution_count": 1,
      "outputs": [
        {
          "output_type": "stream",
          "name": "stdout",
          "text": [
            "Name: Alex\n",
            "Profession: Engineer\n",
            "First element: 10\n",
            "Last element: 50\n"
          ]
        }
      ]
    },
    {
      "cell_type": "markdown",
      "source": [
        "# **Sets**\n",
        "\n",
        "1. Create a set called `fruits` with the following items:  \n",
        "   `\"apple\"`, `\"banana\"`, `\"cherry\"`, `\"apple\"`, `\"orange\"`.  \n",
        "   - Print the set and explain how duplicates are handled.  \n",
        "\n",
        "2. Add a new fruit `\"grape\"` to the `fruits` set.  \n",
        "   - Then remove `\"banana\"` from the set.  \n",
        "\n",
        "3. Create two sets:  \n",
        "   - `set_a = {1, 2, 3, 4}`  \n",
        "   - `set_b = {3, 4, 5, 6}`  \n",
        "   Perform and print the results of the following operations:  \n",
        "   - Union  \n",
        "   - Intersection  \n",
        "   - Difference (set_a - set_b)  \n",
        "   - Symmetric Difference  \n",
        "\n",
        "4. Given the list `numbers = [1, 2, 2, 3, 4, 4, 5]`,  \n",
        "   - Convert it into a set to remove duplicates and print the result.  \n"
      ],
      "metadata": {
        "id": "oBBwwnC1MXpv"
      }
    },
    {
      "cell_type": "code",
      "source": [
        "# 1\n",
        "fruits = {\"apple\", \"banana\", \"cherry\", \"apple\", \"orange\"}\n",
        "print(\"Fruits set:\", fruits)\n",
        "\n",
        "# 2\n",
        "fruits.add(\"grape\")\n",
        "print(\"Fruits set after adding 'grape':\", fruits)\n",
        "\n",
        "# 2(A)\n",
        "fruits.remove(\"banana\")\n",
        "print(\"Fruits set after removing 'banana':\", fruits)\n",
        "\n",
        "# 3 (A,B)\n",
        "set_a = {1, 2, 3, 4}\n",
        "set_b = {3, 4, 5, 6}\n",
        "\n",
        "# 3 (C,D,E,F)\n",
        "print(\"Union:\", set_a | set_b)\n",
        "print(\"Intersection:\", set_a & set_b)\n",
        "print(\"Difference (set_a - set_b):\", set_a - set_b)\n",
        "print(\"Symmetric Difference:\", set_a ^ set_b)\n",
        "\n",
        "# 4\n",
        "numbers = [1, 2, 2, 3, 4, 4, 5]\n",
        "unique_numbers = set(numbers)\n",
        "print(\"Unique numbers:\", unique_numbers)\n"
      ],
      "metadata": {
        "colab": {
          "base_uri": "https://localhost:8080/"
        },
        "id": "PCi5mvNAZCHC",
        "outputId": "164a92fa-f435-433f-d37c-a07a72ff51bd"
      },
      "execution_count": 2,
      "outputs": [
        {
          "output_type": "stream",
          "name": "stdout",
          "text": [
            "Fruits set: {'cherry', 'apple', 'banana', 'orange'}\n",
            "Fruits set after adding 'grape': {'orange', 'cherry', 'apple', 'banana', 'grape'}\n",
            "Fruits set after removing 'banana': {'orange', 'cherry', 'apple', 'grape'}\n",
            "Union: {1, 2, 3, 4, 5, 6}\n",
            "Intersection: {3, 4}\n",
            "Difference (set_a - set_b): {1, 2}\n",
            "Symmetric Difference: {1, 2, 5, 6}\n",
            "Unique numbers: {1, 2, 3, 4, 5}\n"
          ]
        }
      ]
    }
  ]
}